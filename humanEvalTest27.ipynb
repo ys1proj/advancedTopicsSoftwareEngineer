{
 "cells": [
  {
   "cell_type": "code",
   "execution_count": 7,
   "metadata": {},
   "outputs": [
    {
     "name": "stderr",
     "output_type": "stream",
     "text": [
      "Unused kwargs: ['_load_in_4bit', '_load_in_8bit', 'quant_method']. These kwargs are not used in <class 'transformers.utils.quantization_config.BitsAndBytesConfig'>.\n",
      "`low_cpu_mem_usage` was None, now set to True since model is quantized.\n"
     ]
    },
    {
     "name": "stdout",
     "output_type": "stream",
     "text": [
      "Input: Hello\n",
      "Model Output: //\n",
      "        //   Hello\n",
      "        //\n",
      "        //   Hello\n",
      "        //\n",
      "        //   Hello\n",
      "        //\n",
      "        //   Hello\n",
      "        //\n",
      "        //\n",
      "Expected: hELLO\n",
      "Input: WORLD\n",
      "Model Output: //\n",
      "        // 1.flip the string 'WORLD'\n",
      "        //\n",
      "        // 2. and then,\n",
      "        //\n",
      "        // 3\n",
      "Expected: world\n",
      "Input: python\n",
      "Model Output: #робат\n",
      "        #\n",
      "        #\n",
      "        #\n",
      "        #\n",
      "        #\n",
      "        #\n",
      "        #\n",
      "        #\n",
      "        #\n",
      "        #\n",
      "Expected: PYTHON\n",
      "Input: PyThOn123\n",
      "Model Output: self.PyThOn123\n",
      "Expected: pYtHoN123\n",
      "Input: 123\n",
      "Model Output: //\n",
      "        //  123\n",
      "        //\n",
      "        //  123\n",
      "        //\n",
      "        //  123\n",
      "        //\n",
      "        //\n",
      "Expected: 123\n"
     ]
    }
   ],
   "source": [
    "import torch\n",
    "from transformers import LlamaForCausalLM, LlamaTokenizer\n",
    "\n",
    "### HumanEval #27 Model Response ###\n",
    "\n",
    "# Initialize model and tokenizer\n",
    "model_name = \"finegptproject/humaneval_SFTTrainer_model\"\n",
    "tokenizer = LlamaTokenizer.from_pretrained(model_name)\n",
    "model = LlamaForCausalLM.from_pretrained(model_name)\n",
    "\n",
    "# Define the test cases\n",
    "test_cases = [\n",
    "    ('Hello', 'hELLO'),\n",
    "    ('WORLD', 'world'),\n",
    "    ('python', 'PYTHON'),\n",
    "    ('PyThOn123', 'pYtHoN123'),\n",
    "    ('123', '123')  # No change expected as there are no alphabetic characters\n",
    "]\n",
    "\n",
    "def run_test_cases(test_cases):\n",
    "    for input_str, expected in test_cases:\n",
    "        # Create a prompt for the model to flip the case\n",
    "        prompt = f\"Flip the case of the string '{input_str}':\"\n",
    "        inputs_encoded = tokenizer(prompt, return_tensors='pt')\n",
    "        \n",
    "        # Generate the output\n",
    "        with torch.no_grad():\n",
    "            outputs = model.generate(**inputs_encoded, max_length=50, num_return_sequences=1)\n",
    "        \n",
    "        output_str = tokenizer.decode(outputs[0], skip_special_tokens=True).strip()\n",
    "        #print(f\"Raw Model Output: {output_str}\")  # Debug print\n",
    "\n",
    "        # Attempt to clean up the model output and extract the relevant flipped string\n",
    "        result = output_str.split(':')[-1].strip() if ':' in output_str else output_str.strip()\n",
    "        \n",
    "        # Determine if the result matches the expected output\n",
    "\n",
    "        print(f\"Input: {input_str}\")\n",
    "        print(f\"Model Output: {result}\")\n",
    "        print(f\"Expected: {expected}\")\n",
    "\n",
    "# Run the test cases\n",
    "run_test_cases(test_cases)\n",
    "\n"
   ]
  },
  {
   "cell_type": "code",
   "execution_count": 8,
   "metadata": {},
   "outputs": [
    {
     "name": "stderr",
     "output_type": "stream",
     "text": [
      "Setting `pad_token_id` to `eos_token_id`:50256 for open-end generation.\n",
      "Setting `pad_token_id` to `eos_token_id`:50256 for open-end generation.\n"
     ]
    },
    {
     "name": "stdout",
     "output_type": "stream",
     "text": [
      "Input: Hello\n",
      "Model Output: application/json' -d '{ \"\n",
      "Expected: hELLO\n"
     ]
    },
    {
     "name": "stderr",
     "output_type": "stream",
     "text": [
      "Setting `pad_token_id` to `eos_token_id`:50256 for open-end generation.\n"
     ]
    },
    {
     "name": "stdout",
     "output_type": "stream",
     "text": [
      "Input: WORLD\n",
      "Model Output: $ python -m \"world.py -p 'WORLD' -p 'WORLD' -p 'WORLD' -p 'WORLD' -p 'WORLD\n",
      "Expected: world\n"
     ]
    },
    {
     "name": "stderr",
     "output_type": "stream",
     "text": [
      "Setting `pad_token_id` to `eos_token_id`:50256 for open-end generation.\n"
     ]
    },
    {
     "name": "stdout",
     "output_type": "stream",
     "text": [
      "Input: python\n",
      "Model Output: from string import string\n",
      "\n",
      "from string.decimal import decimal\n",
      "\n",
      "from string.decimal import decimal.decimal\n",
      "\n",
      "from string.string import string.decimal\n",
      "Expected: PYTHON\n"
     ]
    },
    {
     "name": "stderr",
     "output_type": "stream",
     "text": [
      "Setting `pad_token_id` to `eos_token_id`:50256 for open-end generation.\n"
     ]
    },
    {
     "name": "stdout",
     "output_type": "stream",
     "text": [
      "Input: PyThOn123\n",
      "Model Output: PyThOn123 = '123'\n",
      "\n",
      "PyThOn123 = '123'\n",
      "\n",
      "PyThOn123 = '123'\n",
      "\n",
      "PyThOn123 =\n",
      "Expected: pYtHoN123\n",
      "Input: 123\n",
      "Model Output: 3000/foo/\n",
      "Expected: 123\n"
     ]
    }
   ],
   "source": [
    "import torch\n",
    "from transformers import GPT2LMHeadModel, GPT2Tokenizer\n",
    "\n",
    "### HumanEval #27 GPT2 Response ###\n",
    "\n",
    "# Initialize model and tokenizer\n",
    "model_name = \"gpt2\" \n",
    "tokenizer = GPT2Tokenizer.from_pretrained(model_name)\n",
    "model = GPT2LMHeadModel.from_pretrained(model_name)\n",
    "\n",
    "\n",
    "# Define the test cases\n",
    "test_cases = [\n",
    "    ('Hello', 'hELLO'),\n",
    "    ('WORLD', 'world'),\n",
    "    ('python', 'PYTHON'),\n",
    "    ('PyThOn123', 'pYtHoN123'),\n",
    "    ('123', '123')  # No change expected as there are no alphabetic characters\n",
    "]\n",
    "\n",
    "def run_test_cases(test_cases):\n",
    "    for input_str, expected in test_cases:\n",
    "        # Create a prompt for the model to flip the case\n",
    "        prompt = f\"Flip the case of the string '{input_str}':\"\n",
    "        inputs_encoded = tokenizer(prompt, return_tensors='pt')\n",
    "        \n",
    "        # Generate the output\n",
    "        with torch.no_grad():\n",
    "            outputs = model.generate(**inputs_encoded, max_length=50, num_return_sequences=1)\n",
    "        \n",
    "        output_str = tokenizer.decode(outputs[0], skip_special_tokens=True).strip()\n",
    "        #print(f\"Raw Model Output: {output_str}\")  # Debug print\n",
    "\n",
    "        # Attempt to clean up the model output and extract the relevant flipped string\n",
    "        result = output_str.split(':')[-1].strip() if ':' in output_str else output_str.strip()\n",
    "        \n",
    "        # Determine if the result matches the expected output\n",
    "\n",
    "        print(f\"Input: {input_str}\")\n",
    "        print(f\"Model Output: {result}\")\n",
    "        print(f\"Expected: {expected}\")\n",
    "\n",
    "# Run the test cases\n",
    "run_test_cases(test_cases)\n"
   ]
  },
  {
   "cell_type": "code",
   "execution_count": null,
   "metadata": {},
   "outputs": [],
   "source": []
  }
 ],
 "metadata": {
  "kernelspec": {
   "display_name": "Python 3",
   "language": "python",
   "name": "python3"
  },
  "language_info": {
   "codemirror_mode": {
    "name": "ipython",
    "version": 3
   },
   "file_extension": ".py",
   "mimetype": "text/x-python",
   "name": "python",
   "nbconvert_exporter": "python",
   "pygments_lexer": "ipython3",
   "version": "3.11.9"
  }
 },
 "nbformat": 4,
 "nbformat_minor": 2
}
