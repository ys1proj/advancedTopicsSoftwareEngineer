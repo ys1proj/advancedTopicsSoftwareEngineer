{
 "cells": [
  {
   "cell_type": "code",
   "execution_count": 17,
   "metadata": {},
   "outputs": [
    {
     "name": "stderr",
     "output_type": "stream",
     "text": [
      "Unused kwargs: ['_load_in_4bit', '_load_in_8bit', 'quant_method']. These kwargs are not used in <class 'transformers.utils.quantization_config.BitsAndBytesConfig'>.\n",
      "`low_cpu_mem_usage` was None, now set to True since model is quantized.\n"
     ]
    },
    {
     "name": "stdout",
     "output_type": "stream",
     "text": [
      "Input: Hello!\n",
      "Model Output: For a given string, flip lowercase characters to uppercase and uppercase to lowercase. This method makes your text *dramatic* and **engaging**—the perfect choice if you want your message to really stand out.\n",
      "\n",
      "Examples:\n",
      ">>> flip_case_framed('Hello!')\n",
      "'Hello'\n",
      ">>> flip_case_framed('Hello')\n",
      "'Hello'\n",
      ">>> flip_case_framed('Hello')\n",
      "'Hello'\n",
      ">>> flip_case_framed('Hello')\n",
      "'Hello'\n",
      ">>> flip_case_framed('Hello')\n",
      "'Hello'\n",
      ">>> flip_case_fr\n",
      "Expected: hELLO!\n",
      "Input: These violent delights have violent ends\n",
      "Model Output: For a given string, flip lowercase characters to uppercase and uppercase to lowercase. This method makes your text *dramatic* and **engaging**—the perfect choice if you want your message to really stand out.\n",
      "\n",
      "Examples:\n",
      ">>> flip_case_framed('These violent delights have violent ends')\n",
      ">>> 'These violent delights have violent ends'\n",
      "\n",
      "\n",
      "###\n",
      "\n",
      "The **uppercase letter** is the **lowercase letter**.\n",
      "\n",
      "Examples:\n",
      ">>> u_uppercase('These violent delights have violent ends')\n",
      ">>> 'These violent delights have violent ends'\n",
      "\n",
      "\n",
      "###\n",
      "Expected: tHESE VIOLENT DELIGHTS HAVE VIOLENT ENDS\n"
     ]
    }
   ],
   "source": [
    "import torch\n",
    "from transformers import LlamaForCausalLM, LlamaTokenizer\n",
    "\n",
    "### HumanEval #27 Model Framing Effect Response ###\n",
    "\n",
    "# Initialize model and tokenizer\n",
    "model_name = \"finegptproject/humaneval_SFTTrainer_model\"\n",
    "tokenizer = LlamaTokenizer.from_pretrained(model_name)\n",
    "model = LlamaForCausalLM.from_pretrained(model_name)\n",
    "\n",
    "# Define the new test cases\n",
    "test_cases = [\n",
    "    ('Hello!', 'hELLO!'),\n",
    "    ('These violent delights have violent ends', 'tHESE VIOLENT DELIGHTS HAVE VIOLENT ENDS')\n",
    "]\n",
    "\n",
    "def run_test_cases(test_cases):\n",
    "    for input_str, expected in test_cases:\n",
    "        # Create a prompt for the model to flip the case with framed context\n",
    "        prompt = f\"For a given string, flip lowercase characters to uppercase and uppercase to lowercase. This method makes your text *dramatic* and **engaging**—the perfect choice if you want your message to really stand out.\\n\\nExamples:\\n>>> flip_case_framed('{input_str}')\"\n",
    "        inputs_encoded = tokenizer(prompt, return_tensors='pt')\n",
    "        \n",
    "        # Generate the output\n",
    "        with torch.no_grad():\n",
    "            outputs = model.generate(**inputs_encoded, max_length=150, num_return_sequences=1)\n",
    "        \n",
    "        output_str = tokenizer.decode(outputs[0], skip_special_tokens=True).strip()\n",
    "        \n",
    "        # Print and compare the result\n",
    "        print(f\"Input: {input_str}\")\n",
    "        print(f\"Model Output: {output_str}\")\n",
    "        print(f\"Expected: {expected}\")\n",
    "\n",
    "# Run the test cases\n",
    "run_test_cases(test_cases)\n",
    "\n"
   ]
  },
  {
   "cell_type": "code",
   "execution_count": 19,
   "metadata": {},
   "outputs": [
    {
     "name": "stderr",
     "output_type": "stream",
     "text": [
      "c:\\Users\\ysch2\\Documents\\GitHub\\advancedTopicsSoftwareEngineer\\venv\\Lib\\site-packages\\transformers\\tokenization_utils_base.py:1601: FutureWarning: `clean_up_tokenization_spaces` was not set. It will be set to `True` by default. This behavior will be depracted in transformers v4.45, and will be then set to `False` by default. For more details check this issue: https://github.com/huggingface/transformers/issues/31884\n",
      "  warnings.warn(\n",
      "Setting `pad_token_id` to `eos_token_id`:50256 for open-end generation.\n",
      "Setting `pad_token_id` to `eos_token_id`:50256 for open-end generation.\n"
     ]
    },
    {
     "name": "stdout",
     "output_type": "stream",
     "text": [
      "Input: Hello!\n",
      "Model Output: For a given string, flip lowercase characters to uppercase and uppercase to lowercase. This method makes your text *dramatic* and **engaging**—the perfect choice if you want your message to really stand out.\n",
      "\n",
      "Examples:\n",
      ">>> flip_case_framed('Hello!') >>> flip_case_framed('Hello!') >>> flip_case_framed('Hello!') >>> flip_case_framed('Hello!') >>> flip_case_framed('Hello!') >>> flip_case_framed('Hello!') >>> flip_case_framed('Hello!') >>> flip_case_framed('Hello!') >>> flip_case_framed\n",
      "Expected: hELLO!\n",
      "Input: These violent delights have violent ends\n",
      "Model Output: For a given string, flip lowercase characters to uppercase and uppercase to lowercase. This method makes your text *dramatic* and **engaging**—the perfect choice if you want your message to really stand out.\n",
      "\n",
      "Examples:\n",
      ">>> flip_case_framed('These violent delights have violent ends') >>> flip_case_framed('These violent delights have violent ends') >>> flip_case_framed('These violent delights have violent ends') >>> flip_case_framed('These violent delights have violent ends') >>> flip_case_framed('These violent delights have violent ends') >>> flip_case_framed('These violent delights have violent ends\n",
      "Expected: tHESE VIOLENT DELIGHTS HAVE VIOLENT ENDS\n"
     ]
    }
   ],
   "source": [
    "import torch\n",
    "from transformers import GPT2LMHeadModel, GPT2Tokenizer\n",
    "\n",
    "### HumanEval #27 GPT2 Framing Effect Response ###\n",
    "\n",
    "# Initialize model and tokenizer\n",
    "model_name = \"gpt2\" \n",
    "tokenizer = GPT2Tokenizer.from_pretrained(model_name)\n",
    "model = GPT2LMHeadModel.from_pretrained(model_name)\n",
    "\n",
    "# Define the new test cases\n",
    "test_cases = [\n",
    "    ('Hello!', 'hELLO!'),\n",
    "    ('These violent delights have violent ends', 'tHESE VIOLENT DELIGHTS HAVE VIOLENT ENDS')\n",
    "]\n",
    "\n",
    "def run_test_cases(test_cases):\n",
    "    for input_str, expected in test_cases:\n",
    "        # Create a prompt for the model to flip the case with framed context\n",
    "        prompt = f\"For a given string, flip lowercase characters to uppercase and uppercase to lowercase. This method makes your text *dramatic* and **engaging**—the perfect choice if you want your message to really stand out.\\n\\nExamples:\\n>>> flip_case_framed('{input_str}')\"\n",
    "        inputs_encoded = tokenizer(prompt, return_tensors='pt')\n",
    "        \n",
    "        # Generate the output\n",
    "        with torch.no_grad():\n",
    "            outputs = model.generate(**inputs_encoded, max_length=150, num_return_sequences=1)\n",
    "        \n",
    "        output_str = tokenizer.decode(outputs[0], skip_special_tokens=True).strip()\n",
    "        \n",
    "        # Print and compare the result\n",
    "        print(f\"Input: {input_str}\")\n",
    "        print(f\"Model Output: {output_str}\")\n",
    "        print(f\"Expected: {expected}\")\n",
    "\n",
    "# Run the test cases\n",
    "run_test_cases(test_cases)"
   ]
  }
 ],
 "metadata": {
  "kernelspec": {
   "display_name": "venv",
   "language": "python",
   "name": "python3"
  },
  "language_info": {
   "codemirror_mode": {
    "name": "ipython",
    "version": 3
   },
   "file_extension": ".py",
   "mimetype": "text/x-python",
   "name": "python",
   "nbconvert_exporter": "python",
   "pygments_lexer": "ipython3",
   "version": "3.11.9"
  }
 },
 "nbformat": 4,
 "nbformat_minor": 2
}
