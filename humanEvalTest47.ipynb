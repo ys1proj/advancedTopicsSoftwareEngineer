{
 "cells": [
  {
   "cell_type": "code",
   "execution_count": 1,
   "metadata": {},
   "outputs": [
    {
     "name": "stderr",
     "output_type": "stream",
     "text": [
      "Unused kwargs: ['_load_in_4bit', '_load_in_8bit', 'quant_method']. These kwargs are not used in <class 'transformers.utils.quantization_config.BitsAndBytesConfig'>.\n",
      "`low_cpu_mem_usage` was None, now set to True since model is quantized.\n",
      "c:\\Users\\ysch2\\Documents\\GitHub\\advancedTopicsSoftwareEngineer\\venv\\Lib\\site-packages\\transformers\\generation\\utils.py:1885: UserWarning: You are calling .generate() with the `input_ids` being on a device type different than your model's device. `input_ids` is on cpu, whereas the model is on cuda. You may experience unexpected behaviors or slower generation. Please make sure that you have put `input_ids` to the correct device by calling for example input_ids = input_ids.to('cuda') before running `.generate()`.\n",
      "  warnings.warn(\n"
     ]
    },
    {
     "name": "stdout",
     "output_type": "stream",
     "text": [
      "Input: [3, 1, 2, 4, 5]\n",
      "Model Output: Calculate the median of the list [3, 1, 2, 4, 5]: 3\n",
      "        // Calculate the median of the list [3, 1, 2, 4, 5]: 3\n",
      "        // Calculate the median of the list [3, 1, 2, 4, 5]: 3\n",
      "        // Calculate the median of the list [3, 1, 2, 4\n",
      "Expected: 3\n",
      "Input: [-10, 4, 6, 1000, 10, 20]\n",
      "Model Output: Calculate the median of the list [-10, 4, 6, 1000, 10, 20]: \n",
      "        // 10\n",
      "        // 4\n",
      "        // 6\n",
      "        // 1000\n",
      "        // 10\n",
      "        // 20\n",
      "        // 100\n",
      "        // 1000\n",
      "        // 10000\n",
      "        // 100\n",
      "Expected: 15.0\n",
      "Input: [5]\n",
      "Model Output: Calculate the median of the list [5]: \n",
      "        return median(list(range(5)))\n",
      "\n",
      "\n",
      "A: You can use the built-in function median:\n",
      "list(range(5))[median(list(range(5)))]\n",
      "\n",
      "\n",
      "A: You can use the built-in function median:\n",
      "list(range(5))[median(list(range(5)))]\n",
      "Expected: 5\n",
      "Input: [6, 5]\n",
      "Model Output: Calculate the median of the list [6, 5]: 5\n",
      "        // 6 is the median of the list [6, 5]\n",
      "        // 5 is the median of the list [6, 5]\n",
      "        // 5 is the median of the list [6, 5]\n",
      "        // 5 is the median of the list [6, 5]\n",
      "        // 5 is the median of the list [6, 5\n",
      "Expected: 5.5\n",
      "Input: [8, 1, 3, 9, 9, 2, 7]\n",
      "Model Output: Calculate the median of the list [8, 1, 3, 9, 9, 2, 7]: \n",
      "        // 8, 1, 3, 9, 9, 2, 7\n",
      "        // 8, 1, 3, 9, 9, 2, 7\n",
      "        // 8, 1, 3, 9, 9, 2, 7\n",
      "Expected: 7\n"
     ]
    }
   ],
   "source": [
    "import torch\n",
    "from transformers import LlamaForCausalLM, LlamaTokenizer\n",
    "\n",
    "## HUMANEVAL #47 ###\n",
    "\n",
    "model_name = \"finegptproject/humaneval_SFTTrainer_model\"\n",
    "\n",
    "# Load tokenizer and model\n",
    "tokenizer = LlamaTokenizer.from_pretrained(model_name)\n",
    "model = LlamaForCausalLM.from_pretrained(model_name)\n",
    "\n",
    "def median(l: list) -> float:\n",
    "    \"\"\"\n",
    "    Return the median of elements in the list l.\n",
    "    \n",
    "    >>> median([3, 1, 2, 4, 5])\n",
    "    3\n",
    "    >>> median([-10, 4, 6, 1000, 10, 20])\n",
    "    15.0\n",
    "    \"\"\"\n",
    "    l = sorted(l)\n",
    "    n = len(l)\n",
    "    if n % 2 == 1:\n",
    "        return l[n // 2]\n",
    "    else:\n",
    "        return (l[n // 2 - 1] + l[n // 2]) / 2.0\n",
    "\n",
    "# Define the test cases\n",
    "test_cases = [\n",
    "    ([3, 1, 2, 4, 5], 3),       # Median of odd-length list\n",
    "    ([-10, 4, 6, 1000, 10, 20], 15.0),  # Median of even-length list\n",
    "    ([5], 5),                   # Median of single-element list\n",
    "    ([6, 5], 5.5),              # Median of even-length list\n",
    "    ([8, 1, 3, 9, 9, 2, 7], 7) # Median of odd-length list\n",
    "]\n",
    "\n",
    "def run_test_cases(test_cases):\n",
    "    for l, expected in test_cases:\n",
    "        # Convert inputs to string representation for model\n",
    "        input_str = f\"Calculate the median of the list {l}: \"\n",
    "        inputs_encoded = tokenizer(input_str, return_tensors='pt')\n",
    "        \n",
    "        # Generate the output\n",
    "        with torch.no_grad():\n",
    "            outputs = model.generate(**inputs_encoded, max_length=100, num_return_sequences=1)\n",
    "        \n",
    "        output_str = tokenizer.decode(outputs[0], skip_special_tokens=True).strip()\n",
    "        print(f\"Input: {l}\")\n",
    "        print(f\"Model Output: {output_str}\")  #print result\n",
    "        print(f\"Expected: {expected}\")\n",
    "\n",
    "# Run the test cases\n",
    "run_test_cases(test_cases)\n"
   ]
  },
  {
   "cell_type": "code",
   "execution_count": 2,
   "metadata": {},
   "outputs": [
    {
     "name": "stderr",
     "output_type": "stream",
     "text": [
      "c:\\Users\\ysch2\\Documents\\GitHub\\advancedTopicsSoftwareEngineer\\venv\\Lib\\site-packages\\transformers\\tokenization_utils_base.py:1601: FutureWarning: `clean_up_tokenization_spaces` was not set. It will be set to `True` by default. This behavior will be depracted in transformers v4.45, and will be then set to `False` by default. For more details check this issue: https://github.com/huggingface/transformers/issues/31884\n",
      "  warnings.warn(\n",
      "Setting `pad_token_id` to `eos_token_id`:50256 for open-end generation.\n",
      "Setting `pad_token_id` to `eos_token_id`:50256 for open-end generation.\n"
     ]
    },
    {
     "name": "stdout",
     "output_type": "stream",
     "text": [
      "Input: [3, 1, 2, 4, 5]\n",
      "Model Output: Calculate the median of the list [3, 1, 2, 4, 5]:  (1)  (2)  (3)  (4)  (5)  (6)  (7)  (8)  (9)  (10)  (11)  (12)  (13)  (14)  (15)  (16)\n",
      "Expected: 3\n"
     ]
    },
    {
     "name": "stderr",
     "output_type": "stream",
     "text": [
      "Setting `pad_token_id` to `eos_token_id`:50256 for open-end generation.\n"
     ]
    },
    {
     "name": "stdout",
     "output_type": "stream",
     "text": [
      "Input: [-10, 4, 6, 1000, 10, 20]\n",
      "Model Output: Calculate the median of the list [-10, 4, 6, 1000, 10, 20]:  (1)  (2)  (3)  (4)  (5)  (6)  (7)  (8)  (9)  (10)  (11)  (12)  (13)  (14)  (15)  (16\n",
      "Expected: 15.0\n"
     ]
    },
    {
     "name": "stderr",
     "output_type": "stream",
     "text": [
      "Setting `pad_token_id` to `eos_token_id`:50256 for open-end generation.\n"
     ]
    },
    {
     "name": "stdout",
     "output_type": "stream",
     "text": [
      "Input: [5]\n",
      "Model Output: Calculate the median of the list [5]:  (1)  (2)  (3)  (4)  (5)  (6)  (7)  (8)  (9)  (10)  (11)  (12)  (13)  (14)  (15)  (16)  (17)  (18\n",
      "Expected: 5\n"
     ]
    },
    {
     "name": "stderr",
     "output_type": "stream",
     "text": [
      "Setting `pad_token_id` to `eos_token_id`:50256 for open-end generation.\n"
     ]
    },
    {
     "name": "stdout",
     "output_type": "stream",
     "text": [
      "Input: [6, 5]\n",
      "Model Output: Calculate the median of the list [6, 5]:  (1)  (2)  (3)  (4)  (5)  (6)  (7)  (8)  (9)  (10)  (11)  (12)  (13)  (14)  (15)  (16)  (17)\n",
      "Expected: 5.5\n",
      "Input: [8, 1, 3, 9, 9, 2, 7]\n",
      "Model Output: Calculate the median of the list [8, 1, 3, 9, 9, 2, 7]:  (1)  (2)  (3)  (4)  (5)  (6)  (7)  (8)  (9)  (10)  (11)  (12)  (13)  (14)  (15)\n",
      "Expected: 7\n"
     ]
    }
   ],
   "source": [
    "import torch\n",
    "from transformers import GPT2LMHeadModel, GPT2Tokenizer\n",
    "\n",
    "### HumanEval #47 on GPT-2 ###\n",
    "\n",
    "model_name = \"gpt2\" \n",
    "tokenizer = GPT2Tokenizer.from_pretrained(model_name)\n",
    "model = GPT2LMHeadModel.from_pretrained(model_name)\n",
    "\n",
    "def median(l: list) -> float:\n",
    "    \"\"\"\n",
    "    Return the median of elements in the list l.\n",
    "    \n",
    "    >>> median([3, 1, 2, 4, 5])\n",
    "    3\n",
    "    >>> median([-10, 4, 6, 1000, 10, 20])\n",
    "    15.0\n",
    "    \"\"\"\n",
    "    l = sorted(l)\n",
    "    n = len(l)\n",
    "    if n % 2 == 1:\n",
    "        return l[n // 2]\n",
    "    else:\n",
    "        return (l[n // 2 - 1] + l[n // 2]) / 2.0\n",
    "\n",
    "# Define the test cases\n",
    "test_cases = [\n",
    "    ([3, 1, 2, 4, 5], 3),       # Median of odd-length list\n",
    "    ([-10, 4, 6, 1000, 10, 20], 15.0),  # Median of even-length list\n",
    "    ([5], 5),                   # Median of single-element list\n",
    "    ([6, 5], 5.5),              # Median of even-length list\n",
    "    ([8, 1, 3, 9, 9, 2, 7], 7) # Median of odd-length list\n",
    "]\n",
    "\n",
    "def run_test_cases(test_cases):\n",
    "    for l, expected in test_cases:\n",
    "        # Convert inputs to string representation for model\n",
    "        input_str = f\"Calculate the median of the list {l}: \"\n",
    "        inputs_encoded = tokenizer(input_str, return_tensors='pt')\n",
    "        \n",
    "        # Generate the output\n",
    "        with torch.no_grad():\n",
    "            outputs = model.generate(**inputs_encoded, max_length=100, num_return_sequences=1)\n",
    "        \n",
    "        output_str = tokenizer.decode(outputs[0], skip_special_tokens=True).strip()\n",
    "        print(f\"Input: {l}\")\n",
    "        print(f\"Model Output: {output_str}\")  #print result\n",
    "        print(f\"Expected: {expected}\")\n",
    "\n",
    "# Run the test cases\n",
    "run_test_cases(test_cases)"
   ]
  }
 ],
 "metadata": {
  "kernelspec": {
   "display_name": "venv",
   "language": "python",
   "name": "python3"
  },
  "language_info": {
   "codemirror_mode": {
    "name": "ipython",
    "version": 3
   },
   "file_extension": ".py",
   "mimetype": "text/x-python",
   "name": "python",
   "nbconvert_exporter": "python",
   "pygments_lexer": "ipython3",
   "version": "3.11.9"
  }
 },
 "nbformat": 4,
 "nbformat_minor": 2
}
