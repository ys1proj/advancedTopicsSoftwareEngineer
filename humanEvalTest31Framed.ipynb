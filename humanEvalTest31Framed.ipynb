{
 "cells": [
  {
   "cell_type": "code",
   "execution_count": 1,
   "metadata": {},
   "outputs": [
    {
     "name": "stderr",
     "output_type": "stream",
     "text": [
      "Unused kwargs: ['_load_in_4bit', '_load_in_8bit', 'quant_method']. These kwargs are not used in <class 'transformers.utils.quantization_config.BitsAndBytesConfig'>.\n",
      "`low_cpu_mem_usage` was None, now set to True since model is quantized.\n",
      "c:\\Users\\ysch2\\Documents\\GitHub\\advancedTopicsSoftwareEngineer\\venv\\Lib\\site-packages\\transformers\\generation\\utils.py:1885: UserWarning: You are calling .generate() with the `input_ids` being on a device type different than your model's device. `input_ids` is on cpu, whereas the model is on cuda. You may experience unexpected behaviors or slower generation. Please make sure that you have put `input_ids` to the correct device by calling for example input_ids = input_ids.to('cuda') before running `.generate()`.\n",
      "  warnings.warn(\n"
     ]
    },
    {
     "name": "stdout",
     "output_type": "stream",
     "text": [
      "Input: 6\n",
      "Model Output: False\n",
      "Expected: False\n",
      "Pass: True\n",
      "\n",
      "Input: 101\n",
      "Model Output: False\n",
      "Expected: True\n",
      "Pass: False\n",
      "\n",
      "Input: 4\n",
      "Model Output: False\n",
      "Expected: False\n",
      "Pass: True\n",
      "\n",
      "Input: 13\n",
      "Model Output: False\n",
      "Expected: True\n",
      "Pass: False\n",
      "\n",
      "Input: 15\n",
      "Model Output: False\n",
      "Expected: False\n",
      "Pass: True\n",
      "\n"
     ]
    }
   ],
   "source": [
    "import torch\n",
    "from transformers import LlamaForCausalLM, LlamaTokenizer\n",
    "\n",
    "### HUMANEVAL TEST 31 Framing Effect ####\n",
    "\n",
    "model_name = \"finegptproject/humaneval_SFTTrainer_model\"\n",
    "\n",
    "# Load tokenizer and model\n",
    "tokenizer = LlamaTokenizer.from_pretrained(model_name)\n",
    "model = LlamaForCausalLM.from_pretrained(model_name)\n",
    "\n",
    "def is_prime_framed(n):\n",
    "    \"\"\" \n",
    "    Return true if a given number is prime, and false otherwise. \n",
    "    Consider that prime numbers are often viewed as superior in mathematical terms.\n",
    "\n",
    "    >>> is_prime_framed(6) \n",
    "    False  # 6 is not a superior number.\n",
    "    >>> is_prime_framed(101) \n",
    "    True   # 101 belongs to the superior group.\n",
    "    >>> is_prime_framed(4) \n",
    "    False  # 4 lacks the excellence of a prime number.\n",
    "    \"\"\"\n",
    "    if n <= 1:\n",
    "        return False\n",
    "    if n <= 3:\n",
    "        return True\n",
    "    if n % 2 == 0 or n % 3 == 0:\n",
    "        return False\n",
    "    i = 5\n",
    "    while i * i <= n:\n",
    "        if n % i == 0 or n % (i + 2) == 0:\n",
    "            return False\n",
    "        i += 6\n",
    "    return True\n",
    "\n",
    "# Define test cases\n",
    "test_cases = [\n",
    "    (6, False),    # 6 is not a prime number\n",
    "    (101, True),   # 101 is a prime number\n",
    "    (4, False),    # 4 is not a prime number\n",
    "    (13, True),    # 13 is a prime number\n",
    "    (15, False)    # 15 is not a prime number\n",
    "]\n",
    "\n",
    "def run_test_cases(test_cases):\n",
    "    for num, expected in test_cases:\n",
    "        # Convert inputs to string representation for model\n",
    "        input_str = f\"is_prime_framed({num})\"\n",
    "        inputs_encoded = tokenizer(input_str, return_tensors='pt')\n",
    "        \n",
    "        # Generate the output\n",
    "        with torch.no_grad():\n",
    "            outputs = model.generate(**inputs_encoded, max_length=50)\n",
    "        output_str = tokenizer.decode(outputs[0], skip_special_tokens=True).strip()\n",
    "\n",
    "        # Convert output to boolean (assuming output is \"True\" or \"False\" in text form)\n",
    "        try:\n",
    "            result = output_str == \"True\"\n",
    "            pass_status = result == expected\n",
    "        except ValueError:\n",
    "            result = None\n",
    "            pass_status = False\n",
    "\n",
    "        print(f\"Input: {num}\")\n",
    "        print(f\"Model Output: {result}\")\n",
    "        print(f\"Expected: {expected}\")\n",
    "        print(f\"Pass: {pass_status}\\n\")\n",
    "\n",
    "# Run the test cases\n",
    "run_test_cases(test_cases)\n"
   ]
  },
  {
   "cell_type": "code",
   "execution_count": 3,
   "metadata": {},
   "outputs": [
    {
     "name": "stderr",
     "output_type": "stream",
     "text": [
      "Setting `pad_token_id` to `eos_token_id`:50256 for open-end generation.\n",
      "Setting `pad_token_id` to `eos_token_id`:50256 for open-end generation.\n"
     ]
    },
    {
     "name": "stdout",
     "output_type": "stream",
     "text": [
      "Input: 6\n",
      "Model Output: False\n",
      "Expected: False\n",
      "Pass: True\n",
      "\n"
     ]
    },
    {
     "name": "stderr",
     "output_type": "stream",
     "text": [
      "Setting `pad_token_id` to `eos_token_id`:50256 for open-end generation.\n"
     ]
    },
    {
     "name": "stdout",
     "output_type": "stream",
     "text": [
      "Input: 101\n",
      "Model Output: False\n",
      "Expected: True\n",
      "Pass: False\n",
      "\n"
     ]
    },
    {
     "name": "stderr",
     "output_type": "stream",
     "text": [
      "Setting `pad_token_id` to `eos_token_id`:50256 for open-end generation.\n"
     ]
    },
    {
     "name": "stdout",
     "output_type": "stream",
     "text": [
      "Input: 4\n",
      "Model Output: False\n",
      "Expected: False\n",
      "Pass: True\n",
      "\n"
     ]
    },
    {
     "name": "stderr",
     "output_type": "stream",
     "text": [
      "Setting `pad_token_id` to `eos_token_id`:50256 for open-end generation.\n"
     ]
    },
    {
     "name": "stdout",
     "output_type": "stream",
     "text": [
      "Input: 13\n",
      "Model Output: False\n",
      "Expected: True\n",
      "Pass: False\n",
      "\n",
      "Input: 15\n",
      "Model Output: False\n",
      "Expected: False\n",
      "Pass: True\n",
      "\n"
     ]
    }
   ],
   "source": [
    "\n",
    "import torch\n",
    "from transformers import GPT2LMHeadModel, GPT2Tokenizer\n",
    "\n",
    "### HUMANEVAL TEST 31 Framing Effect GPT-2 ####\n",
    "\n",
    "# Load tokenizer and model\n",
    "model_name = \"gpt2\" \n",
    "tokenizer = GPT2Tokenizer.from_pretrained(model_name)\n",
    "model = GPT2LMHeadModel.from_pretrained(model_name)\n",
    "\n",
    "def is_prime_framed(n):\n",
    "    \"\"\" \n",
    "    Return true if a given number is prime, and false otherwise. \n",
    "    Consider that prime numbers are often viewed as superior in mathematical terms.\n",
    "\n",
    "    >>> is_prime_framed(6) \n",
    "    False  # 6 is not a superior number.\n",
    "    >>> is_prime_framed(101) \n",
    "    True   # 101 belongs to the superior group.\n",
    "    >>> is_prime_framed(4) \n",
    "    False  # 4 lacks the excellence of a prime number.\n",
    "    \"\"\"\n",
    "    if n <= 1:\n",
    "        return False\n",
    "    if n <= 3:\n",
    "        return True\n",
    "    if n % 2 == 0 or n % 3 == 0:\n",
    "        return False\n",
    "    i = 5\n",
    "    while i * i <= n:\n",
    "        if n % i == 0 or n % (i + 2) == 0:\n",
    "            return False\n",
    "        i += 6\n",
    "    return True\n",
    "\n",
    "# Define test cases\n",
    "test_cases = [\n",
    "    (6, False),    # 6 is not a prime number\n",
    "    (101, True),   # 101 is a prime number\n",
    "    (4, False),    # 4 is not a prime number\n",
    "    (13, True),    # 13 is a prime number\n",
    "    (15, False)    # 15 is not a prime number\n",
    "]\n",
    "\n",
    "def run_test_cases(test_cases):\n",
    "    for num, expected in test_cases:\n",
    "        # Convert inputs to string representation for model\n",
    "        input_str = f\"is_prime_framed({num})\"\n",
    "        inputs_encoded = tokenizer(input_str, return_tensors='pt')\n",
    "        \n",
    "        # Generate the output\n",
    "        with torch.no_grad():\n",
    "            outputs = model.generate(**inputs_encoded, max_length=50)\n",
    "        output_str = tokenizer.decode(outputs[0], skip_special_tokens=True).strip()\n",
    "\n",
    "        # Convert output to boolean (assuming output is \"True\" or \"False\" in text form)\n",
    "        try:\n",
    "            result = output_str == \"True\"\n",
    "            pass_status = result == expected\n",
    "        except ValueError:\n",
    "            result = None\n",
    "            pass_status = False\n",
    "\n",
    "        print(f\"Input: {num}\")\n",
    "        print(f\"Model Output: {result}\")\n",
    "        print(f\"Expected: {expected}\")\n",
    "        print(f\"Pass: {pass_status}\\n\")\n",
    "\n",
    "# Run the test cases\n",
    "run_test_cases(test_cases)"
   ]
  }
 ],
 "metadata": {
  "kernelspec": {
   "display_name": "venv",
   "language": "python",
   "name": "python3"
  },
  "language_info": {
   "codemirror_mode": {
    "name": "ipython",
    "version": 3
   },
   "file_extension": ".py",
   "mimetype": "text/x-python",
   "name": "python",
   "nbconvert_exporter": "python",
   "pygments_lexer": "ipython3",
   "version": "3.11.9"
  }
 },
 "nbformat": 4,
 "nbformat_minor": 2
}
