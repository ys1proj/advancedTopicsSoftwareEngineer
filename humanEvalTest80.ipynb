{
 "cells": [
  {
   "cell_type": "code",
   "execution_count": 1,
   "metadata": {},
   "outputs": [
    {
     "name": "stderr",
     "output_type": "stream",
     "text": [
      "Unused kwargs: ['_load_in_4bit', '_load_in_8bit', 'quant_method']. These kwargs are not used in <class 'transformers.utils.quantization_config.BitsAndBytesConfig'>.\n",
      "`low_cpu_mem_usage` was None, now set to True since model is quantized.\n",
      "c:\\Users\\ysch2\\Documents\\GitHub\\advancedTopicsSoftwareEngineer\\venv\\Lib\\site-packages\\transformers\\generation\\utils.py:1885: UserWarning: You are calling .generate() with the `input_ids` being on a device type different than your model's device. `input_ids` is on cpu, whereas the model is on cuda. You may experience unexpected behaviors or slower generation. Please make sure that you have put `input_ids` to the correct device by calling for example input_ids = input_ids.to('cuda') before running `.generate()`.\n",
      "  warnings.warn(\n"
     ]
    },
    {
     "name": "stdout",
     "output_type": "stream",
     "text": [
      "Input: 'a'\n",
      "Extracted Answer: Neither True or False\n",
      "Expected: False\n",
      "\n",
      "Input: 'aa'\n",
      "Extracted Answer: Neither True or False\n",
      "Expected: False\n",
      "\n",
      "Input: 'abcd'\n",
      "Extracted Answer: True\n",
      "Expected: True\n",
      "\n",
      "Input: 'aabb'\n",
      "Extracted Answer: Neither True or False\n",
      "Expected: False\n",
      "\n",
      "Input: 'adb'\n",
      "Extracted Answer: True\n",
      "Expected: True\n",
      "\n",
      "Input: 'xyy'\n",
      "Extracted Answer: Neither True or False\n",
      "Expected: False\n",
      "\n"
     ]
    }
   ],
   "source": [
    "import torch\n",
    "from transformers import LlamaForCausalLM, LlamaTokenizer\n",
    "\n",
    "### HumanEval #80 Model Response ###\n",
    "# Initialize model and tokenizer\n",
    "model_name = \"finegptproject/humaneval_SFTTrainer_model\"\n",
    "tokenizer = LlamaTokenizer.from_pretrained(model_name)\n",
    "model = LlamaForCausalLM.from_pretrained(model_name)\n",
    "\n",
    "# Define the test cases\n",
    "test_cases = [\n",
    "    ('a', False),\n",
    "    ('aa', False),\n",
    "    ('abcd', True),\n",
    "    ('aabb', False),\n",
    "    ('adb', True),\n",
    "    ('xyy', False),\n",
    "]\n",
    "\n",
    "def extract_answer(output_str, input_str):\n",
    "    # Remove the input string part from the output\n",
    "    start_index = output_str.find(input_str)\n",
    "    if start_index != -1:\n",
    "        output_str = output_str[start_index + len(input_str):]\n",
    "    \n",
    "    # Clean and parse the output string\n",
    "    output_str = output_str.strip().lower()\n",
    "    if 'true' in output_str:\n",
    "        return True\n",
    "    elif 'false' in output_str:\n",
    "        return False\n",
    "    else:\n",
    "        return None\n",
    "\n",
    "def run_test_cases(test_cases):\n",
    "    for s, expected in test_cases:\n",
    "        # Use the exact prompt\n",
    "        prompt = (\n",
    "            f\"def is_happy(s): \\\"\\\"\\\"You are given a string s. Your task is to check if the string is happy or not. \"\n",
    "            f\"A string is happy if its length is at least 3 and every 3 consecutive letters are distinct. \"\n",
    "            f\"For example: is_happy(a) => False is_happy(aa) => False is_happy(abcd) => True is_happy(aabb) => False \"\n",
    "            f\"is_happy(adb) => True is_happy(xyy) => False \\\"\\\"\\\"\\n\\n\"\n",
    "            f\"Check if the string '{s}' is happy. Answer with 'True' or 'False' only. If the string is not happy, answer 'False'.\"\n",
    "        )\n",
    "        inputs_encoded = tokenizer(prompt, return_tensors='pt')\n",
    "\n",
    "        # Generate the output with a limit on max_length to reduce irrelevant content\n",
    "        with torch.no_grad():\n",
    "            outputs = model.generate(**inputs_encoded, max_length=230, num_return_sequences=1)\n",
    "\n",
    "        output_str = tokenizer.decode(outputs[0], skip_special_tokens=True).strip()\n",
    "        model_answer = extract_answer(output_str, s)\n",
    "\n",
    "        # Apply a basic post-processing logic\n",
    "        if model_answer is None:\n",
    "            print(f\"Model did not give a clear True/False answer for input '{s}'.\")\n",
    "        elif model_answer != expected:\n",
    "            model_answer = f\"Neither True or False\"\n",
    "        \n",
    "        print(f\"Input: '{s}'\")\n",
    "        print(f\"Extracted Answer: {model_answer}\")\n",
    "        print(f\"Expected: {expected}\\n\")\n",
    "\n",
    "# Run the test cases\n",
    "run_test_cases(test_cases)"
   ]
  },
  {
   "cell_type": "code",
   "execution_count": 2,
   "metadata": {},
   "outputs": [
    {
     "name": "stderr",
     "output_type": "stream",
     "text": [
      "c:\\Users\\ysch2\\Documents\\GitHub\\advancedTopicsSoftwareEngineer\\venv\\Lib\\site-packages\\transformers\\tokenization_utils_base.py:1601: FutureWarning: `clean_up_tokenization_spaces` was not set. It will be set to `True` by default. This behavior will be depracted in transformers v4.45, and will be then set to `False` by default. For more details check this issue: https://github.com/huggingface/transformers/issues/31884\n",
      "  warnings.warn(\n",
      "Setting `pad_token_id` to `eos_token_id`:50256 for open-end generation.\n",
      "Setting `pad_token_id` to `eos_token_id`:50256 for open-end generation.\n"
     ]
    },
    {
     "name": "stdout",
     "output_type": "stream",
     "text": [
      "Input: 'a'\n",
      "Extracted Answer: Neither True or False\n",
      "Expected: False\n",
      "\n"
     ]
    },
    {
     "name": "stderr",
     "output_type": "stream",
     "text": [
      "Setting `pad_token_id` to `eos_token_id`:50256 for open-end generation.\n"
     ]
    },
    {
     "name": "stdout",
     "output_type": "stream",
     "text": [
      "Input: 'aa'\n",
      "Extracted Answer: Neither True or False\n",
      "Expected: False\n",
      "\n"
     ]
    },
    {
     "name": "stderr",
     "output_type": "stream",
     "text": [
      "Setting `pad_token_id` to `eos_token_id`:50256 for open-end generation.\n"
     ]
    },
    {
     "name": "stdout",
     "output_type": "stream",
     "text": [
      "Input: 'abcd'\n",
      "Extracted Answer: True\n",
      "Expected: True\n",
      "\n"
     ]
    },
    {
     "name": "stderr",
     "output_type": "stream",
     "text": [
      "Setting `pad_token_id` to `eos_token_id`:50256 for open-end generation.\n"
     ]
    },
    {
     "name": "stdout",
     "output_type": "stream",
     "text": [
      "Input: 'aabb'\n",
      "Extracted Answer: Neither True or False\n",
      "Expected: False\n",
      "\n"
     ]
    },
    {
     "name": "stderr",
     "output_type": "stream",
     "text": [
      "Setting `pad_token_id` to `eos_token_id`:50256 for open-end generation.\n"
     ]
    },
    {
     "name": "stdout",
     "output_type": "stream",
     "text": [
      "Input: 'adb'\n",
      "Extracted Answer: True\n",
      "Expected: True\n",
      "\n",
      "Input: 'xyy'\n",
      "Extracted Answer: Neither True or False\n",
      "Expected: False\n",
      "\n"
     ]
    }
   ],
   "source": [
    "import torch\n",
    "from transformers import GPT2LMHeadModel, GPT2Tokenizer\n",
    "\n",
    "### HumanEval #80 GPT2 Response ###\n",
    "\n",
    "# Initialize model and tokenizer\n",
    "model_name = \"gpt2\" \n",
    "tokenizer = GPT2Tokenizer.from_pretrained(model_name)\n",
    "model = GPT2LMHeadModel.from_pretrained(model_name)\n",
    "\n",
    "# Define the test cases\n",
    "test_cases = [\n",
    "    ('a', False),\n",
    "    ('aa', False),\n",
    "    ('abcd', True),\n",
    "    ('aabb', False),\n",
    "    ('adb', True),\n",
    "    ('xyy', False),\n",
    "]\n",
    "\n",
    "def extract_answer(output_str, input_str):\n",
    "    # Remove the input string part from the output\n",
    "    start_index = output_str.find(input_str)\n",
    "    if start_index != -1:\n",
    "        output_str = output_str[start_index + len(input_str):]\n",
    "    \n",
    "    # Clean and parse the output string\n",
    "    output_str = output_str.strip().lower()\n",
    "    if 'true' in output_str:\n",
    "        return True\n",
    "    elif 'false' in output_str:\n",
    "        return False\n",
    "    else:\n",
    "        return None\n",
    "\n",
    "def run_test_cases(test_cases):\n",
    "    for s, expected in test_cases:\n",
    "        # Use the exact prompt\n",
    "        prompt = (\n",
    "            f\"def is_happy(s): \\\"\\\"\\\"You are given a string s. Your task is to check if the string is happy or not. \"\n",
    "            f\"A string is happy if its length is at least 3 and every 3 consecutive letters are distinct. \"\n",
    "            f\"For example: is_happy(a) => False is_happy(aa) => False is_happy(abcd) => True is_happy(aabb) => False \"\n",
    "            f\"is_happy(adb) => True is_happy(xyy) => False \\\"\\\"\\\"\\n\\n\"\n",
    "            f\"Check if the string '{s}' is happy. Answer with 'True' or 'False' only. If the string is not happy, answer 'False'.\"\n",
    "        )\n",
    "        inputs_encoded = tokenizer(prompt, return_tensors='pt')\n",
    "\n",
    "        # Generate the output with a limit on max_length to reduce irrelevant content\n",
    "        with torch.no_grad():\n",
    "            outputs = model.generate(**inputs_encoded, max_length=230, num_return_sequences=1)\n",
    "\n",
    "        output_str = tokenizer.decode(outputs[0], skip_special_tokens=True).strip()\n",
    "        model_answer = extract_answer(output_str, s)\n",
    "\n",
    "        # Apply a basic post-processing logic\n",
    "        if model_answer is None:\n",
    "            print(f\"Model did not give a clear True/False answer for input '{s}'.\")\n",
    "        elif model_answer != expected:\n",
    "            model_answer = f\"Neither True or False\"\n",
    "        \n",
    "        print(f\"Input: '{s}'\")\n",
    "        print(f\"Extracted Answer: {model_answer}\")\n",
    "        print(f\"Expected: {expected}\\n\")\n",
    "\n",
    "# Run the test cases\n",
    "run_test_cases(test_cases)\n",
    "\n"
   ]
  }
 ],
 "metadata": {
  "kernelspec": {
   "display_name": "venv",
   "language": "python",
   "name": "python3"
  },
  "language_info": {
   "codemirror_mode": {
    "name": "ipython",
    "version": 3
   },
   "file_extension": ".py",
   "mimetype": "text/x-python",
   "name": "python",
   "nbconvert_exporter": "python",
   "pygments_lexer": "ipython3",
   "version": "3.11.9"
  }
 },
 "nbformat": 4,
 "nbformat_minor": 2
}
